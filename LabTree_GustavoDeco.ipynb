{
 "cells": [
  {
   "cell_type": "markdown",
   "metadata": {},
   "source": [
    "# Lab tree for Gustavo Deco"
   ]
  },
  {
   "cell_type": "code",
   "execution_count": 1,
   "metadata": {},
   "outputs": [],
   "source": [
    "# Loading the packages\n",
    "\n",
    "# Scripts are inside these two modules\n",
    "from analyze_coauthors import build_and_draw_graph\n",
    "from get_data import get_scholar_summary, download_papers, which_papers_are_missing, get_abstracts, tika_pdf_to_text\n",
    "\n",
    "import os\n",
    "import urllib.request as urllib\n",
    "import bs4\n",
    "import re\n",
    "import requests\n",
    "import json\n",
    "import subprocess\n",
    "import pickle\n",
    "import numpy as np\n",
    "import plotly.graph_objs as go\n",
    "import umap\n",
    "import pandas as pd\n",
    "import seaborn as sns\n",
    "import scipy.spatial as sp\n",
    "import scipy.cluster.hierarchy as hc\n",
    "from sklearn.datasets import load_iris\n",
    "from gensim.models.doc2vec import Doc2Vec, TaggedDocument\n",
    "from nltk.tokenize import word_tokenize\n",
    "from sklearn.cluster import DBSCAN\n",
    "from scipy.sparse import csr_matrix\n",
    "from scipy.spatial.distance import pdist,squareform\n",
    "from sklearn.feature_extraction.text import CountVectorizer, TfidfTransformer, TfidfVectorizer\n",
    "from plotly.offline import download_plotlyjs, init_notebook_mode, plot, iplot\n",
    "\n",
    "import matplotlib.image as mpimg; import matplotlib.pyplot as plt\n"
   ]
  },
  {
   "cell_type": "code",
   "execution_count": 2,
   "metadata": {},
   "outputs": [],
   "source": [
    "# Google scholar name and ID for the desired PI \n",
    "\n",
    "AUTHOR_NAME = 'Gustavo_Deco'\n",
    "AUTHOR_SCHOLAR_ID = \"xMh3uN8AAAAJ\"\n",
    "\n"
   ]
  },
  {
   "cell_type": "code",
   "execution_count": 16,
   "metadata": {},
   "outputs": [
    {
     "name": "stdout",
     "output_type": "stream",
     "text": [
      "Google blocked our request to access the page. Wait a few hours or change your IP adress and retry\n"
     ]
    }
   ],
   "source": [
    "# Obtaining publications \n",
    "# Note: Google will block the request after x iterations. You must wait a few hours or change your IP adress and retry. \n",
    "\n",
    "publications, titles, links = get_scholar_summary(AUTHOR_SCHOLAR_ID, NB_MAX_PUBLIS=1000, START_FROM_PUBLI_NUMBER=0)"
   ]
  },
  {
   "cell_type": "code",
   "execution_count": 4,
   "metadata": {},
   "outputs": [],
   "source": [
    "# Saving the results\n",
    "\n",
    "with open(AUTHOR_NAME+'-googlescholar-publications.json', \"w\") as fp:\n",
    "    json.dump(publications, fp)\n",
    "    \n",
    "with open(AUTHOR_NAME+'-googlescholar-titles.pickle', \"wb\") as fp:\n",
    "    pickle.dump(titles, fp)\n",
    "    \n",
    "with open(AUTHOR_NAME+'-googlescholar-links.pickle', \"wb\") as fp:\n",
    "    pickle.dump(links, fp)"
   ]
  },
  {
   "cell_type": "code",
   "execution_count": 12,
   "metadata": {},
   "outputs": [],
   "source": [
    "# Loading the previously saved results \n",
    "\n",
    "with open(AUTHOR_NAME+'-googlescholar-publications.json') as f:\n",
    "    publications=json.load(f)\n",
    "    \n",
    "with open(AUTHOR_NAME+'-googlescholar-titles.pickle','rb') as fp:\n",
    "    titles=pickle.load(fp)\n",
    "    \n",
    "with open(AUTHOR_NAME+'-googlescholar-links.pickle','rb') as fp:\n",
    "    links=pickle.load(fp)"
   ]
  },
  {
   "cell_type": "code",
   "execution_count": 13,
   "metadata": {},
   "outputs": [],
   "source": [
    "# Downloading articles\n",
    "papers = download_papers(links, titles, num_retries = 10)\n",
    "\n",
    "\n",
    "# Stuck accesing papers from Scihub\n",
    "# Is it really necessary to download them ? ->I dont think so\n",
    "\n",
    "#  File \"/usr/local/lib/python3.7/site-packages/bs4/dammit.py\"\n",
    "#   ERROR - from html.entities import codepoint2name\n",
    "#/usr/local/lib/python3.7/site-packages/bs4/element.py:16: \n",
    "# ---> UserWarning: The soupsieve package is not installed. CSS selectors cannot be used.\n",
    "\n",
    "\n"
   ]
  },
  {
   "cell_type": "code",
   "execution_count": 17,
   "metadata": {},
   "outputs": [],
   "source": [
    "# What to do with abstracts? How are they clustering them together? \n",
    "\n",
    "abstracts, abstracts_titles = get_abstracts(publications)"
   ]
  },
  {
   "cell_type": "code",
   "execution_count": null,
   "metadata": {},
   "outputs": [],
   "source": [
    "# try different cluster methods based on abstracts / keywords"
   ]
  },
  {
   "cell_type": "code",
   "execution_count": null,
   "metadata": {},
   "outputs": [],
   "source": []
  },
  {
   "cell_type": "code",
   "execution_count": null,
   "metadata": {},
   "outputs": [],
   "source": []
  }
 ],
 "metadata": {
  "kernelspec": {
   "display_name": "Python 3",
   "language": "python",
   "name": "python3"
  },
  "language_info": {
   "codemirror_mode": {
    "name": "ipython",
    "version": 3
   },
   "file_extension": ".py",
   "mimetype": "text/x-python",
   "name": "python",
   "nbconvert_exporter": "python",
   "pygments_lexer": "ipython3",
   "version": "3.7.6"
  }
 },
 "nbformat": 4,
 "nbformat_minor": 2
}
